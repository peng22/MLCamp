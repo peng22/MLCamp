{
 "cells": [
  {
   "cell_type": "code",
   "execution_count": 37,
   "id": "17ae0b51-5015-4a63-b4b0-9c8e39349b97",
   "metadata": {},
   "outputs": [],
   "source": [
    "import pandas as pd\n",
    "import numpy as np"
   ]
  },
  {
   "cell_type": "code",
   "execution_count": 38,
   "id": "de219941",
   "metadata": {},
   "outputs": [
    {
     "name": "stdout",
     "output_type": "stream",
     "text": [
      "--2023-09-26 00:41:07--  https://raw.githubusercontent.com/alexeygrigorev/datasets/master/housing.csv\n",
      "Resolving raw.githubusercontent.com (raw.githubusercontent.com)... 185.199.111.133, 185.199.109.133, 185.199.110.133, ...\n",
      "Connecting to raw.githubusercontent.com (raw.githubusercontent.com)|185.199.111.133|:443... connected.\n",
      "HTTP request sent, awaiting response... 200 OK\n",
      "Length: 1423529 (1.4M) [text/plain]\n",
      "Saving to: ‘housing.csv.2’\n",
      "\n",
      "housing.csv.2       100%[===================>]   1.36M  1.23MB/s    in 1.1s    \n",
      "\n",
      "2023-09-26 00:41:09 (1.23 MB/s) - ‘housing.csv.2’ saved [1423529/1423529]\n",
      "\n"
     ]
    }
   ],
   "source": [
    "!wget https://raw.githubusercontent.com/alexeygrigorev/datasets/master/housing.csv"
   ]
  },
  {
   "cell_type": "code",
   "execution_count": 39,
   "id": "319efa8e",
   "metadata": {},
   "outputs": [
    {
     "name": "stdout",
     "output_type": "stream",
     "text": [
      "total_bedrooms\n"
     ]
    }
   ],
   "source": [
    "df = pd.read_csv('housing.csv')\n",
    "filtered_data = df[df['ocean_proximity'].isin ( ['<1H OCEAN' ,'INLAND']) ] \n",
    "missing_values = filtered_data.isnull().sum()\n",
    "\n",
    "column_with_missing_values = missing_values[missing_values > 0].index[0]\n",
    "\n",
    "print(column_with_missing_values)"
   ]
  },
  {
   "cell_type": "code",
   "execution_count": 40,
   "id": "a6a7728f",
   "metadata": {},
   "outputs": [
    {
     "name": "stdout",
     "output_type": "stream",
     "text": [
      "1195.0\n"
     ]
    }
   ],
   "source": [
    "median_population = filtered_data['population'].median()\n",
    "print(median_population)"
   ]
  },
  {
   "cell_type": "code",
   "execution_count": 41,
   "id": "7c38b5d5",
   "metadata": {},
   "outputs": [
    {
     "name": "stdout",
     "output_type": "stream",
     "text": [
      "RMSE with 0: 0.34\n",
      "RMSE with mean: 0.34\n",
      "Both options are equally good\n"
     ]
    },
    {
     "name": "stderr",
     "output_type": "stream",
     "text": [
      "/home/peng/ML_Zoom_Camp/ML_Venv/lib/python3.10/site-packages/numpy/core/fromnumeric.py:59: FutureWarning: 'DataFrame.swapaxes' is deprecated and will be removed in a future version. Please use 'DataFrame.transpose' instead.\n",
      "  return bound(*args, **kwds)\n"
     ]
    }
   ],
   "source": [
    "from sklearn.model_selection import train_test_split\n",
    "from sklearn.linear_model import LinearRegression\n",
    "from sklearn.metrics import mean_squared_error\n",
    "import numpy as np\n",
    "\n",
    "selected_columns = [\n",
    "    'latitude', 'longitude', 'housing_median_age', 'total_rooms', \n",
    "    'total_bedrooms', 'population', 'households', 'median_income', \n",
    "    'median_house_value'\n",
    "]\n",
    "filtered_data = filtered_data[selected_columns]\n",
    "\n",
    "filtered_data = filtered_data.sample(frac=1, random_state=42)\n",
    "\n",
    "train_data, val_data, test_data = np.split(filtered_data, [int(0.6*len(filtered_data)), int(0.8*len(filtered_data))])\n",
    "\n",
    "train_data['median_house_value'] = np.log1p(train_data['median_house_value'])\n",
    "val_data['median_house_value'] = np.log1p(val_data['median_house_value'])\n",
    "\n",
    "train_data_fill_zero = train_data.fillna(0)\n",
    "val_data_fill_zero = val_data.fillna(0)\n",
    "\n",
    "mean_total_bedrooms = train_data['total_bedrooms'].mean()\n",
    "train_data_fill_mean = train_data.fillna({'total_bedrooms': mean_total_bedrooms})\n",
    "val_data_fill_mean = val_data.fillna({'total_bedrooms': mean_total_bedrooms})\n",
    "\n",
    "def train_and_evaluate(data_train, data_val):\n",
    "    X_train = data_train.drop('median_house_value', axis=1)\n",
    "    y_train = data_train['median_house_value']\n",
    "    X_val = data_val.drop('median_house_value', axis=1)\n",
    "    y_val = data_val['median_house_value']\n",
    "    \n",
    "    model = LinearRegression()\n",
    "    model.fit(X_train, y_train)\n",
    "    y_pred = model.predict(X_val)\n",
    "    rmse = np.sqrt(mean_squared_error(y_val, y_pred))\n",
    "    return rmse\n",
    "\n",
    "rmse_fill_zero = train_and_evaluate(train_data_fill_zero, val_data_fill_zero)\n",
    "rmse_fill_mean = train_and_evaluate(train_data_fill_mean, val_data_fill_mean)\n",
    "\n",
    "print(\"RMSE with 0:\", round(rmse_fill_zero, 2))\n",
    "print(\"RMSE with mean:\", round(rmse_fill_mean, 2))\n",
    "\n",
    "if round(rmse_fill_zero, 2) < round(rmse_fill_mean, 2):\n",
    "    print(\"Better option: With 0\")\n",
    "elif round(rmse_fill_zero, 2) > round(rmse_fill_mean, 2):\n",
    "    print(\"Better option: With mean\")\n",
    "else:\n",
    "    print(\"Both options are equally good\")\n"
   ]
  },
  {
   "cell_type": "code",
   "execution_count": 20,
   "id": "b029a532",
   "metadata": {},
   "outputs": [
    {
     "name": "stdout",
     "output_type": "stream",
     "text": [
      "Alpha = 0: RMSE = 0.337022325\n",
      "Rounded Alpha = 0: RMSE = 0.34\n",
      "Alpha = 1e-06: RMSE = 0.337022325\n",
      "Rounded Alpha = 1e-06: RMSE = 0.34\n",
      "Alpha = 0.0001: RMSE = 0.337022325\n",
      "Rounded Alpha = 0.0001: RMSE = 0.34\n",
      "Alpha = 0.001: RMSE = 0.337022322\n",
      "Rounded Alpha = 0.001: RMSE = 0.34\n",
      "Best alpha: 0.001\n"
     ]
    }
   ],
   "source": [
    "from sklearn.linear_model import Ridge\n",
    "\n",
    "# Function to train and evaluate a regularized linear regression model with given alpha\n",
    "def train_and_evaluate_ridge(data_train, data_val, alpha):\n",
    "    X_train = data_train.drop('median_house_value', axis=1)\n",
    "    y_train = data_train['median_house_value']\n",
    "    X_val = data_val.drop('median_house_value', axis=1)\n",
    "    y_val = data_val['median_house_value']\n",
    "    \n",
    "    model = Ridge(alpha=alpha)\n",
    "    model.fit(X_train, y_train)\n",
    "    y_pred = model.predict(X_val)\n",
    "    rmse = np.sqrt(mean_squared_error(y_val, y_pred))\n",
    "    return rmse\n",
    "\n",
    "alphas = [0, 0.000001, 0.0001, 0.001]\n",
    "best_alpha = None\n",
    "best_rmse = float('inf')\n",
    "\n",
    "for alpha in alphas:\n",
    "    rmse = train_and_evaluate_ridge(train_data_fill_zero, val_data_fill_zero, alpha)\n",
    "    print(f\"Alpha = {alpha}: RMSE = {round(rmse, 9)}\")\n",
    "    print(f\"Rounded Alpha = {alpha}: RMSE = {round(rmse, 2)}\")\n",
    "    if rmse < best_rmse:\n",
    "        best_alpha = alpha\n",
    "        best_rmse = rmse\n",
    "\n",
    "print(\"Best alpha:\", best_alpha)\n"
   ]
  },
  {
   "cell_type": "code",
   "execution_count": 42,
   "id": "72184207",
   "metadata": {},
   "outputs": [
    {
     "name": "stdout",
     "output_type": "stream",
     "text": [
      "Standard Deviation of RMSE Scores: 1483.007\n"
     ]
    }
   ],
   "source": []
  },
  {
   "cell_type": "code",
   "execution_count": null,
   "id": "7ecf5137",
   "metadata": {},
   "outputs": [],
   "source": []
  },
  {
   "cell_type": "code",
   "execution_count": null,
   "id": "851c8d9b",
   "metadata": {},
   "outputs": [],
   "source": []
  }
 ],
 "metadata": {
  "kernelspec": {
   "display_name": "Python 3 (ipykernel)",
   "language": "python",
   "name": "python3"
  },
  "language_info": {
   "codemirror_mode": {
    "name": "ipython",
    "version": 3
   },
   "file_extension": ".py",
   "mimetype": "text/x-python",
   "name": "python",
   "nbconvert_exporter": "python",
   "pygments_lexer": "ipython3",
   "version": "3.10.13"
  }
 },
 "nbformat": 4,
 "nbformat_minor": 5
}
