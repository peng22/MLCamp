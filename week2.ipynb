{
 "cells": [
  {
   "cell_type": "code",
   "execution_count": 4,
   "id": "17ae0b51-5015-4a63-b4b0-9c8e39349b97",
   "metadata": {},
   "outputs": [],
   "source": [
    "import pandas as pd\n",
    "import numpy as np"
   ]
  },
  {
   "cell_type": "code",
   "execution_count": 38,
   "id": "de219941",
   "metadata": {},
   "outputs": [
    {
     "name": "stdout",
     "output_type": "stream",
     "text": [
      "--2023-09-26 00:41:07--  https://raw.githubusercontent.com/alexeygrigorev/datasets/master/housing.csv\n",
      "Resolving raw.githubusercontent.com (raw.githubusercontent.com)... 185.199.111.133, 185.199.109.133, 185.199.110.133, ...\n",
      "Connecting to raw.githubusercontent.com (raw.githubusercontent.com)|185.199.111.133|:443... connected.\n",
      "HTTP request sent, awaiting response... 200 OK\n",
      "Length: 1423529 (1.4M) [text/plain]\n",
      "Saving to: ‘housing.csv.2’\n",
      "\n",
      "housing.csv.2       100%[===================>]   1.36M  1.23MB/s    in 1.1s    \n",
      "\n",
      "2023-09-26 00:41:09 (1.23 MB/s) - ‘housing.csv.2’ saved [1423529/1423529]\n",
      "\n"
     ]
    }
   ],
   "source": [
    "!wget https://raw.githubusercontent.com/alexeygrigorev/datasets/master/housing.csv"
   ]
  },
  {
   "cell_type": "code",
   "execution_count": 5,
   "id": "319efa8e",
   "metadata": {},
   "outputs": [
    {
     "name": "stdout",
     "output_type": "stream",
     "text": [
      "total_bedrooms\n"
     ]
    }
   ],
   "source": [
    "df = pd.read_csv('housing.csv')\n",
    "filtered_data = df[df['ocean_proximity'].isin ( ['<1H OCEAN' ,'INLAND']) ] \n",
    "missing_values = filtered_data.isnull().sum()\n",
    "\n",
    "column_with_missing_values = missing_values[missing_values > 0].index[0]\n",
    "\n",
    "print(column_with_missing_values)"
   ]
  },
  {
   "cell_type": "code",
   "execution_count": 6,
   "id": "a6a7728f",
   "metadata": {},
   "outputs": [
    {
     "name": "stdout",
     "output_type": "stream",
     "text": [
      "1195.0\n"
     ]
    }
   ],
   "source": [
    "median_population = filtered_data['population'].median()\n",
    "print(median_population)"
   ]
  },
  {
   "cell_type": "code",
   "execution_count": 9,
   "id": "36b09d37",
   "metadata": {},
   "outputs": [
    {
     "data": {
      "text/plain": [
       "array([15183,  4469,  9316, ...,  5390,   860,  7270])"
      ]
     },
     "execution_count": 9,
     "metadata": {},
     "output_type": "execute_result"
    }
   ],
   "source": [
    "#let's get the ids first\n",
    "n = len(filtered_data)\n",
    "idx = np.arange(n)\n",
    "\n",
    "np.random.seed(42)\n",
    "np.random.shuffle(idx)\n",
    "idx"
   ]
  },
  {
   "cell_type": "code",
   "execution_count": 10,
   "id": "4bb1f334",
   "metadata": {},
   "outputs": [],
   "source": [
    "n_validation = int(0.2*n)\n",
    "n_testing =  int(0.2*n)\n",
    "n_training = 1-n_validation - n_testing"
   ]
  },
  {
   "cell_type": "code",
   "execution_count": 11,
   "id": "62c6bb90",
   "metadata": {},
   "outputs": [
    {
     "data": {
      "text/html": [
       "<div>\n",
       "<style scoped>\n",
       "    .dataframe tbody tr th:only-of-type {\n",
       "        vertical-align: middle;\n",
       "    }\n",
       "\n",
       "    .dataframe tbody tr th {\n",
       "        vertical-align: top;\n",
       "    }\n",
       "\n",
       "    .dataframe thead th {\n",
       "        text-align: right;\n",
       "    }\n",
       "</style>\n",
       "<table border=\"1\" class=\"dataframe\">\n",
       "  <thead>\n",
       "    <tr style=\"text-align: right;\">\n",
       "      <th></th>\n",
       "      <th>longitude</th>\n",
       "      <th>latitude</th>\n",
       "      <th>housing_median_age</th>\n",
       "      <th>total_rooms</th>\n",
       "      <th>total_bedrooms</th>\n",
       "      <th>population</th>\n",
       "      <th>households</th>\n",
       "      <th>median_income</th>\n",
       "      <th>median_house_value</th>\n",
       "      <th>ocean_proximity</th>\n",
       "    </tr>\n",
       "  </thead>\n",
       "  <tbody>\n",
       "    <tr>\n",
       "      <th>15183</th>\n",
       "      <td>-117.15</td>\n",
       "      <td>33.02</td>\n",
       "      <td>4.0</td>\n",
       "      <td>15029.0</td>\n",
       "      <td>2279.0</td>\n",
       "      <td>5613.0</td>\n",
       "      <td>1696.0</td>\n",
       "      <td>7.2731</td>\n",
       "      <td>450400.0</td>\n",
       "      <td>NEAR OCEAN</td>\n",
       "    </tr>\n",
       "    <tr>\n",
       "      <th>4469</th>\n",
       "      <td>-118.16</td>\n",
       "      <td>34.09</td>\n",
       "      <td>50.0</td>\n",
       "      <td>1568.0</td>\n",
       "      <td>302.0</td>\n",
       "      <td>1093.0</td>\n",
       "      <td>333.0</td>\n",
       "      <td>3.1442</td>\n",
       "      <td>162100.0</td>\n",
       "      <td>&lt;1H OCEAN</td>\n",
       "    </tr>\n",
       "    <tr>\n",
       "      <th>9316</th>\n",
       "      <td>-122.46</td>\n",
       "      <td>37.98</td>\n",
       "      <td>10.0</td>\n",
       "      <td>1325.0</td>\n",
       "      <td>189.0</td>\n",
       "      <td>427.0</td>\n",
       "      <td>162.0</td>\n",
       "      <td>12.0933</td>\n",
       "      <td>500001.0</td>\n",
       "      <td>NEAR BAY</td>\n",
       "    </tr>\n",
       "    <tr>\n",
       "      <th>4983</th>\n",
       "      <td>-118.30</td>\n",
       "      <td>34.00</td>\n",
       "      <td>52.0</td>\n",
       "      <td>1686.0</td>\n",
       "      <td>377.0</td>\n",
       "      <td>982.0</td>\n",
       "      <td>356.0</td>\n",
       "      <td>2.0958</td>\n",
       "      <td>116400.0</td>\n",
       "      <td>&lt;1H OCEAN</td>\n",
       "    </tr>\n",
       "    <tr>\n",
       "      <th>13154</th>\n",
       "      <td>-121.50</td>\n",
       "      <td>36.81</td>\n",
       "      <td>20.0</td>\n",
       "      <td>1345.0</td>\n",
       "      <td>230.0</td>\n",
       "      <td>731.0</td>\n",
       "      <td>217.0</td>\n",
       "      <td>4.2333</td>\n",
       "      <td>363300.0</td>\n",
       "      <td>INLAND</td>\n",
       "    </tr>\n",
       "    <tr>\n",
       "      <th>...</th>\n",
       "      <td>...</td>\n",
       "      <td>...</td>\n",
       "      <td>...</td>\n",
       "      <td>...</td>\n",
       "      <td>...</td>\n",
       "      <td>...</td>\n",
       "      <td>...</td>\n",
       "      <td>...</td>\n",
       "      <td>...</td>\n",
       "      <td>...</td>\n",
       "    </tr>\n",
       "    <tr>\n",
       "      <th>15225</th>\n",
       "      <td>-117.26</td>\n",
       "      <td>33.06</td>\n",
       "      <td>11.0</td>\n",
       "      <td>2660.0</td>\n",
       "      <td>352.0</td>\n",
       "      <td>1226.0</td>\n",
       "      <td>366.0</td>\n",
       "      <td>7.6832</td>\n",
       "      <td>319800.0</td>\n",
       "      <td>NEAR OCEAN</td>\n",
       "    </tr>\n",
       "    <tr>\n",
       "      <th>5231</th>\n",
       "      <td>-118.24</td>\n",
       "      <td>33.93</td>\n",
       "      <td>32.0</td>\n",
       "      <td>779.0</td>\n",
       "      <td>201.0</td>\n",
       "      <td>861.0</td>\n",
       "      <td>219.0</td>\n",
       "      <td>1.0625</td>\n",
       "      <td>89800.0</td>\n",
       "      <td>&lt;1H OCEAN</td>\n",
       "    </tr>\n",
       "    <tr>\n",
       "      <th>2076</th>\n",
       "      <td>-119.83</td>\n",
       "      <td>36.75</td>\n",
       "      <td>33.0</td>\n",
       "      <td>662.0</td>\n",
       "      <td>183.0</td>\n",
       "      <td>607.0</td>\n",
       "      <td>181.0</td>\n",
       "      <td>1.3929</td>\n",
       "      <td>55600.0</td>\n",
       "      <td>INLAND</td>\n",
       "    </tr>\n",
       "    <tr>\n",
       "      <th>4103</th>\n",
       "      <td>-118.39</td>\n",
       "      <td>34.15</td>\n",
       "      <td>36.0</td>\n",
       "      <td>2696.0</td>\n",
       "      <td>713.0</td>\n",
       "      <td>905.0</td>\n",
       "      <td>659.0</td>\n",
       "      <td>3.1146</td>\n",
       "      <td>373500.0</td>\n",
       "      <td>&lt;1H OCEAN</td>\n",
       "    </tr>\n",
       "    <tr>\n",
       "      <th>7493</th>\n",
       "      <td>-118.24</td>\n",
       "      <td>33.92</td>\n",
       "      <td>42.0</td>\n",
       "      <td>328.0</td>\n",
       "      <td>100.0</td>\n",
       "      <td>605.0</td>\n",
       "      <td>87.0</td>\n",
       "      <td>2.4464</td>\n",
       "      <td>97400.0</td>\n",
       "      <td>&lt;1H OCEAN</td>\n",
       "    </tr>\n",
       "  </tbody>\n",
       "</table>\n",
       "<p>9414 rows × 10 columns</p>\n",
       "</div>"
      ],
      "text/plain": [
       "       longitude  latitude  housing_median_age  total_rooms  total_bedrooms  \\\n",
       "15183    -117.15     33.02                 4.0      15029.0          2279.0   \n",
       "4469     -118.16     34.09                50.0       1568.0           302.0   \n",
       "9316     -122.46     37.98                10.0       1325.0           189.0   \n",
       "4983     -118.30     34.00                52.0       1686.0           377.0   \n",
       "13154    -121.50     36.81                20.0       1345.0           230.0   \n",
       "...          ...       ...                 ...          ...             ...   \n",
       "15225    -117.26     33.06                11.0       2660.0           352.0   \n",
       "5231     -118.24     33.93                32.0        779.0           201.0   \n",
       "2076     -119.83     36.75                33.0        662.0           183.0   \n",
       "4103     -118.39     34.15                36.0       2696.0           713.0   \n",
       "7493     -118.24     33.92                42.0        328.0           100.0   \n",
       "\n",
       "       population  households  median_income  median_house_value  \\\n",
       "15183      5613.0      1696.0         7.2731            450400.0   \n",
       "4469       1093.0       333.0         3.1442            162100.0   \n",
       "9316        427.0       162.0        12.0933            500001.0   \n",
       "4983        982.0       356.0         2.0958            116400.0   \n",
       "13154       731.0       217.0         4.2333            363300.0   \n",
       "...           ...         ...            ...                 ...   \n",
       "15225      1226.0       366.0         7.6832            319800.0   \n",
       "5231        861.0       219.0         1.0625             89800.0   \n",
       "2076        607.0       181.0         1.3929             55600.0   \n",
       "4103        905.0       659.0         3.1146            373500.0   \n",
       "7493        605.0        87.0         2.4464             97400.0   \n",
       "\n",
       "      ocean_proximity  \n",
       "15183      NEAR OCEAN  \n",
       "4469        <1H OCEAN  \n",
       "9316         NEAR BAY  \n",
       "4983        <1H OCEAN  \n",
       "13154          INLAND  \n",
       "...               ...  \n",
       "15225      NEAR OCEAN  \n",
       "5231        <1H OCEAN  \n",
       "2076           INLAND  \n",
       "4103        <1H OCEAN  \n",
       "7493        <1H OCEAN  \n",
       "\n",
       "[9414 rows x 10 columns]"
      ]
     },
     "execution_count": 11,
     "metadata": {},
     "output_type": "execute_result"
    }
   ],
   "source": [
    "df_train = df.iloc[idx[:n_training]]\n",
    "df_val = df.iloc[idx[n_training:n_training+n_validation]]\n",
    "df_test = df.iloc[idx[n_training+n_validation:]]\n",
    "\n",
    "df_train"
   ]
  },
  {
   "cell_type": "code",
   "execution_count": 12,
   "id": "e6e086bd",
   "metadata": {},
   "outputs": [
    {
     "data": {
      "text/html": [
       "<div>\n",
       "<style scoped>\n",
       "    .dataframe tbody tr th:only-of-type {\n",
       "        vertical-align: middle;\n",
       "    }\n",
       "\n",
       "    .dataframe tbody tr th {\n",
       "        vertical-align: top;\n",
       "    }\n",
       "\n",
       "    .dataframe thead th {\n",
       "        text-align: right;\n",
       "    }\n",
       "</style>\n",
       "<table border=\"1\" class=\"dataframe\">\n",
       "  <thead>\n",
       "    <tr style=\"text-align: right;\">\n",
       "      <th></th>\n",
       "      <th>longitude</th>\n",
       "      <th>latitude</th>\n",
       "      <th>housing_median_age</th>\n",
       "      <th>total_rooms</th>\n",
       "      <th>total_bedrooms</th>\n",
       "      <th>population</th>\n",
       "      <th>households</th>\n",
       "      <th>median_income</th>\n",
       "      <th>median_house_value</th>\n",
       "      <th>ocean_proximity</th>\n",
       "    </tr>\n",
       "  </thead>\n",
       "  <tbody>\n",
       "    <tr>\n",
       "      <th>0</th>\n",
       "      <td>-117.15</td>\n",
       "      <td>33.02</td>\n",
       "      <td>4.0</td>\n",
       "      <td>15029.0</td>\n",
       "      <td>2279.0</td>\n",
       "      <td>5613.0</td>\n",
       "      <td>1696.0</td>\n",
       "      <td>7.2731</td>\n",
       "      <td>450400.0</td>\n",
       "      <td>NEAR OCEAN</td>\n",
       "    </tr>\n",
       "    <tr>\n",
       "      <th>1</th>\n",
       "      <td>-118.16</td>\n",
       "      <td>34.09</td>\n",
       "      <td>50.0</td>\n",
       "      <td>1568.0</td>\n",
       "      <td>302.0</td>\n",
       "      <td>1093.0</td>\n",
       "      <td>333.0</td>\n",
       "      <td>3.1442</td>\n",
       "      <td>162100.0</td>\n",
       "      <td>&lt;1H OCEAN</td>\n",
       "    </tr>\n",
       "    <tr>\n",
       "      <th>2</th>\n",
       "      <td>-122.46</td>\n",
       "      <td>37.98</td>\n",
       "      <td>10.0</td>\n",
       "      <td>1325.0</td>\n",
       "      <td>189.0</td>\n",
       "      <td>427.0</td>\n",
       "      <td>162.0</td>\n",
       "      <td>12.0933</td>\n",
       "      <td>500001.0</td>\n",
       "      <td>NEAR BAY</td>\n",
       "    </tr>\n",
       "    <tr>\n",
       "      <th>3</th>\n",
       "      <td>-118.30</td>\n",
       "      <td>34.00</td>\n",
       "      <td>52.0</td>\n",
       "      <td>1686.0</td>\n",
       "      <td>377.0</td>\n",
       "      <td>982.0</td>\n",
       "      <td>356.0</td>\n",
       "      <td>2.0958</td>\n",
       "      <td>116400.0</td>\n",
       "      <td>&lt;1H OCEAN</td>\n",
       "    </tr>\n",
       "    <tr>\n",
       "      <th>4</th>\n",
       "      <td>-121.50</td>\n",
       "      <td>36.81</td>\n",
       "      <td>20.0</td>\n",
       "      <td>1345.0</td>\n",
       "      <td>230.0</td>\n",
       "      <td>731.0</td>\n",
       "      <td>217.0</td>\n",
       "      <td>4.2333</td>\n",
       "      <td>363300.0</td>\n",
       "      <td>INLAND</td>\n",
       "    </tr>\n",
       "    <tr>\n",
       "      <th>...</th>\n",
       "      <td>...</td>\n",
       "      <td>...</td>\n",
       "      <td>...</td>\n",
       "      <td>...</td>\n",
       "      <td>...</td>\n",
       "      <td>...</td>\n",
       "      <td>...</td>\n",
       "      <td>...</td>\n",
       "      <td>...</td>\n",
       "      <td>...</td>\n",
       "    </tr>\n",
       "    <tr>\n",
       "      <th>9409</th>\n",
       "      <td>-117.26</td>\n",
       "      <td>33.06</td>\n",
       "      <td>11.0</td>\n",
       "      <td>2660.0</td>\n",
       "      <td>352.0</td>\n",
       "      <td>1226.0</td>\n",
       "      <td>366.0</td>\n",
       "      <td>7.6832</td>\n",
       "      <td>319800.0</td>\n",
       "      <td>NEAR OCEAN</td>\n",
       "    </tr>\n",
       "    <tr>\n",
       "      <th>9410</th>\n",
       "      <td>-118.24</td>\n",
       "      <td>33.93</td>\n",
       "      <td>32.0</td>\n",
       "      <td>779.0</td>\n",
       "      <td>201.0</td>\n",
       "      <td>861.0</td>\n",
       "      <td>219.0</td>\n",
       "      <td>1.0625</td>\n",
       "      <td>89800.0</td>\n",
       "      <td>&lt;1H OCEAN</td>\n",
       "    </tr>\n",
       "    <tr>\n",
       "      <th>9411</th>\n",
       "      <td>-119.83</td>\n",
       "      <td>36.75</td>\n",
       "      <td>33.0</td>\n",
       "      <td>662.0</td>\n",
       "      <td>183.0</td>\n",
       "      <td>607.0</td>\n",
       "      <td>181.0</td>\n",
       "      <td>1.3929</td>\n",
       "      <td>55600.0</td>\n",
       "      <td>INLAND</td>\n",
       "    </tr>\n",
       "    <tr>\n",
       "      <th>9412</th>\n",
       "      <td>-118.39</td>\n",
       "      <td>34.15</td>\n",
       "      <td>36.0</td>\n",
       "      <td>2696.0</td>\n",
       "      <td>713.0</td>\n",
       "      <td>905.0</td>\n",
       "      <td>659.0</td>\n",
       "      <td>3.1146</td>\n",
       "      <td>373500.0</td>\n",
       "      <td>&lt;1H OCEAN</td>\n",
       "    </tr>\n",
       "    <tr>\n",
       "      <th>9413</th>\n",
       "      <td>-118.24</td>\n",
       "      <td>33.92</td>\n",
       "      <td>42.0</td>\n",
       "      <td>328.0</td>\n",
       "      <td>100.0</td>\n",
       "      <td>605.0</td>\n",
       "      <td>87.0</td>\n",
       "      <td>2.4464</td>\n",
       "      <td>97400.0</td>\n",
       "      <td>&lt;1H OCEAN</td>\n",
       "    </tr>\n",
       "  </tbody>\n",
       "</table>\n",
       "<p>9414 rows × 10 columns</p>\n",
       "</div>"
      ],
      "text/plain": [
       "      longitude  latitude  housing_median_age  total_rooms  total_bedrooms  \\\n",
       "0       -117.15     33.02                 4.0      15029.0          2279.0   \n",
       "1       -118.16     34.09                50.0       1568.0           302.0   \n",
       "2       -122.46     37.98                10.0       1325.0           189.0   \n",
       "3       -118.30     34.00                52.0       1686.0           377.0   \n",
       "4       -121.50     36.81                20.0       1345.0           230.0   \n",
       "...         ...       ...                 ...          ...             ...   \n",
       "9409    -117.26     33.06                11.0       2660.0           352.0   \n",
       "9410    -118.24     33.93                32.0        779.0           201.0   \n",
       "9411    -119.83     36.75                33.0        662.0           183.0   \n",
       "9412    -118.39     34.15                36.0       2696.0           713.0   \n",
       "9413    -118.24     33.92                42.0        328.0           100.0   \n",
       "\n",
       "      population  households  median_income  median_house_value  \\\n",
       "0         5613.0      1696.0         7.2731            450400.0   \n",
       "1         1093.0       333.0         3.1442            162100.0   \n",
       "2          427.0       162.0        12.0933            500001.0   \n",
       "3          982.0       356.0         2.0958            116400.0   \n",
       "4          731.0       217.0         4.2333            363300.0   \n",
       "...          ...         ...            ...                 ...   \n",
       "9409      1226.0       366.0         7.6832            319800.0   \n",
       "9410       861.0       219.0         1.0625             89800.0   \n",
       "9411       607.0       181.0         1.3929             55600.0   \n",
       "9412       905.0       659.0         3.1146            373500.0   \n",
       "9413       605.0        87.0         2.4464             97400.0   \n",
       "\n",
       "     ocean_proximity  \n",
       "0         NEAR OCEAN  \n",
       "1          <1H OCEAN  \n",
       "2           NEAR BAY  \n",
       "3          <1H OCEAN  \n",
       "4             INLAND  \n",
       "...              ...  \n",
       "9409      NEAR OCEAN  \n",
       "9410       <1H OCEAN  \n",
       "9411          INLAND  \n",
       "9412       <1H OCEAN  \n",
       "9413       <1H OCEAN  \n",
       "\n",
       "[9414 rows x 10 columns]"
      ]
     },
     "execution_count": 12,
     "metadata": {},
     "output_type": "execute_result"
    }
   ],
   "source": [
    "df_train=df_train.reset_index(drop=True)\n",
    "df_val=df_val.reset_index(drop=True)\n",
    "df_test=df_test.reset_index(drop=True)\n",
    "df_train"
   ]
  },
  {
   "cell_type": "code",
   "execution_count": 13,
   "id": "1d1763ec",
   "metadata": {},
   "outputs": [],
   "source": [
    "y_train = np.log1p(df_train.median_house_value.values)\n",
    "y_val = np.log1p(df_val.median_house_value.values)\n",
    "y_test = np.log1p(df_test.median_house_value.values)"
   ]
  },
  {
   "cell_type": "code",
   "execution_count": 14,
   "id": "bbe770a2",
   "metadata": {},
   "outputs": [],
   "source": [
    "del df_train['median_house_value']\n",
    "del df_val['median_house_value']\n",
    "del df_test['median_house_value']"
   ]
  },
  {
   "cell_type": "code",
   "execution_count": 27,
   "id": "a9580c5f",
   "metadata": {},
   "outputs": [
    {
     "data": {
      "text/plain": [
       "0       nearocean\n",
       "1        <1hocean\n",
       "2         nearbay\n",
       "3        <1hocean\n",
       "4          inland\n",
       "          ...    \n",
       "9409    nearocean\n",
       "9410     <1hocean\n",
       "9411       inland\n",
       "9412     <1hocean\n",
       "9413     <1hocean\n",
       "Name: ocean_proximity, Length: 9414, dtype: object"
      ]
     },
     "execution_count": 27,
     "metadata": {},
     "output_type": "execute_result"
    }
   ],
   "source": [
    "df_train['ocean_proximity']=df_train['ocean_proximity'].str.lower().str.replace('_','')\n",
    "df_val['ocean_proximity']=df_val['ocean_proximity'].str.lower().str.replace('_','')\n",
    "df_test['ocean_proximity']=df_test['ocean_proximity'].str.lower().str.replace('_','')\n",
    "df_train['ocean_proximity']"
   ]
  },
  {
   "cell_type": "code",
   "execution_count": 36,
   "id": "ce5a6aa1",
   "metadata": {},
   "outputs": [],
   "source": [
    "df_train['near_ocean'] =  df_train['ocean_proximity'] == 'nearocean' \n",
    "df_val['near_ocean'] =  df_val['ocean_proximity'] == 'nearocean' \n",
    "df_test['near_ocean'] =  df_test['ocean_proximity'] == 'nearocean' \n",
    "del df_train['ocean_proximity']\n",
    "del df_val['ocean_proximity']\n",
    "del df_test['ocean_proximity']"
   ]
  },
  {
   "cell_type": "code",
   "execution_count": 38,
   "id": "9786a9f8",
   "metadata": {},
   "outputs": [
    {
     "data": {
      "text/plain": [
       "longitude               0\n",
       "latitude                0\n",
       "housing_median_age      0\n",
       "total_rooms             0\n",
       "total_bedrooms        110\n",
       "population              0\n",
       "households              0\n",
       "median_income           0\n",
       "near_ocean              0\n",
       "dtype: int64"
      ]
     },
     "execution_count": 38,
     "metadata": {},
     "output_type": "execute_result"
    }
   ],
   "source": [
    "df_train.isnull().sum()\n"
   ]
  },
  {
   "cell_type": "code",
   "execution_count": 39,
   "id": "8c37287f",
   "metadata": {},
   "outputs": [],
   "source": [
    "df_train_zero = df_train.fillna(0)\n",
    "df_val_zero = df_val.fillna(0)\n",
    "df_test_zero = df_test.fillna(0)"
   ]
  },
  {
   "cell_type": "code",
   "execution_count": 54,
   "id": "ddceb648",
   "metadata": {},
   "outputs": [
    {
     "data": {
      "text/plain": [
       "0.35"
      ]
     },
     "execution_count": 54,
     "metadata": {},
     "output_type": "execute_result"
    }
   ],
   "source": [
    "from sklearn.linear_model import LinearRegression\n",
    "from sklearn.metrics import mean_squared_error\n",
    "\n",
    "def train_and_evaluate(X_train, y_train , X_val, y_val):\n",
    "   \n",
    "    model = LinearRegression()\n",
    "    model.fit(X_train, y_train)\n",
    "    y_pred = model.predict(X_val)\n",
    "    rmse = np.sqrt(mean_squared_error(y_val, y_pred))\n",
    "    return rmse\n",
    "\n",
    "zero_rmse =train_and_evaluate(df_train_zero,y_train,df_val_zero,y_val)\n",
    "round(zero_rmse,2)"
   ]
  },
  {
   "cell_type": "code",
   "execution_count": 51,
   "id": "2d8473fa",
   "metadata": {},
   "outputs": [],
   "source": [
    "df_train_mean = df_train.fillna(df_train['total_bedrooms'].mean())\n",
    "df_val_mean = df_val.fillna(df_val['total_bedrooms'].mean())\n",
    "df_test_mean = df_test.fillna(df_test['total_bedrooms'].mean())"
   ]
  },
  {
   "cell_type": "code",
   "execution_count": 55,
   "id": "5d84c2c8",
   "metadata": {},
   "outputs": [
    {
     "data": {
      "text/plain": [
       "0.34"
      ]
     },
     "execution_count": 55,
     "metadata": {},
     "output_type": "execute_result"
    }
   ],
   "source": [
    "mean_rsme =train_and_evaluate(df_train_mean,y_train,df_val_mean,y_val)\n",
    "round(mean_rsme,2)"
   ]
  },
  {
   "cell_type": "markdown",
   "id": "17d4efcf",
   "metadata": {},
   "source": [
    "So here filling NA with mean was better in terms of the RMSE"
   ]
  },
  {
   "cell_type": "code",
   "execution_count": 63,
   "id": "756ec0e5",
   "metadata": {},
   "outputs": [],
   "source": [
    "df_train_val_zero =pd.concat([df_train_zero, df_val_zero])\n",
    "y_train_val = np.concatenate( [y_train,  y_val]) "
   ]
  },
  {
   "cell_type": "code",
   "execution_count": 67,
   "id": "7c38b5d5",
   "metadata": {},
   "outputs": [
    {
     "name": "stdout",
     "output_type": "stream",
     "text": [
      "0 0.33878209839072665\n",
      "1e-06 0.33878209839251266\n",
      "0.0001 0.33878209856933306\n",
      "0.001 0.3387821001767966\n",
      "0.01 0.3387821162518928\n",
      "0.1 0.3387822770489417\n",
      "1 0.33878388962303996\n",
      "5 0.338791157347451\n",
      "10 0.33880047082745124\n",
      "0 0.33878209839072665\n"
     ]
    }
   ],
   "source": [
    "from sklearn.linear_model import Ridge\n",
    "from sklearn.metrics import mean_squared_error\n",
    "\n",
    "def train_and_evaluate(X_train, y_train , X_val, y_val,alpha):\n",
    "   \n",
    "    model = Ridge(alpha=alpha)\n",
    "    model.fit(X_train, y_train)\n",
    "    y_pred = model.predict(X_val)\n",
    "    rmse = np.sqrt(mean_squared_error(y_val, y_pred))\n",
    "    return rmse\n",
    "\n",
    "alphas = [0, 0.000001, 0.0001, 0.001, 0.01, 0.1, 1, 5, 10]\n",
    "min_rsme = 10\n",
    "min_alpha =100\n",
    "for alpha in alphas:\n",
    "    zero_rmse =train_and_evaluate(df_train_val_zero,y_train_val,df_test_zero,y_test,alpha)\n",
    "    print(alpha,zero_rmse)\n",
    "    if zero_rmse < min_rsme:\n",
    "        min_rsme = zero_rmse\n",
    "        min_alpha = alpha\n",
    "\n",
    "print(min_alpha,min_rsme)        \n",
    "        "
   ]
  },
  {
   "cell_type": "code",
   "execution_count": null,
   "id": "7ecf5137",
   "metadata": {},
   "outputs": [],
   "source": []
  },
  {
   "cell_type": "code",
   "execution_count": null,
   "id": "851c8d9b",
   "metadata": {},
   "outputs": [],
   "source": []
  }
 ],
 "metadata": {
  "kernelspec": {
   "display_name": "Python 3 (ipykernel)",
   "language": "python",
   "name": "python3"
  },
  "language_info": {
   "codemirror_mode": {
    "name": "ipython",
    "version": 3
   },
   "file_extension": ".py",
   "mimetype": "text/x-python",
   "name": "python",
   "nbconvert_exporter": "python",
   "pygments_lexer": "ipython3",
   "version": "3.10.13"
  }
 },
 "nbformat": 4,
 "nbformat_minor": 5
}
